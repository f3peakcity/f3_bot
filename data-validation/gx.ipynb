{
 "cells": [
  {
   "cell_type": "code",
   "execution_count": null,
   "metadata": {},
   "outputs": [],
   "source": [
    "import great_expectations as gx\n",
    "import os"
   ]
  },
  {
   "cell_type": "code",
   "execution_count": null,
   "metadata": {},
   "outputs": [],
   "source": [
    "context = gx.get_context(\n",
    "    ge_cloud_organization_id=\"728c7fee-386f-417a-b313-a7e73595c994\",\n",
    "    cloud_mode=True\n",
    ")"
   ]
  },
  {
   "cell_type": "code",
   "execution_count": null,
   "metadata": {},
   "outputs": [],
   "source": [
    "asset = context.get_datasource(\"cockroachdb\").get_asset(\"ao_info_carpex_super_region\")"
   ]
  },
  {
   "cell_type": "code",
   "execution_count": null,
   "metadata": {},
   "outputs": [],
   "source": [
    "# datasource = context.sources.add_sql(\n",
    "#     \"cockroachdb\",\n",
    "#     create_temp_table=False,\n",
    "#     connection_string=os.environ[\"COCKROACH_CONNECTION_STRING\"]\n",
    "# )\n",
    "\n",
    "# for name in [\"ao_info_carpex\", \"ao_info_greenlevel\", \"ao_info_carpex_super_region\", \"ao_info_peakcity\"]:\n",
    "#     datasource.add_table_asset(f\"{name}\", f\"{name}\")\n",
    "# asset = datasource.add_table_asset(\"backblast\", \"backblast\").add_splitter_year_and_month_and_day(\"date\")"
   ]
  },
  {
   "cell_type": "code",
   "execution_count": null,
   "metadata": {},
   "outputs": [],
   "source": [
    "try:\n",
    "    context.add_expectation_suite(\"backblast\")\n",
    "except (ValueError, gx.exceptions.GreatExpectationsError):\n",
    "    pass"
   ]
  },
  {
   "cell_type": "code",
   "execution_count": null,
   "metadata": {},
   "outputs": [],
   "source": [
    "validator = context.get_validator(batch_request=asset.build_batch_request(), expectation_suite_name=\"ao_info\")"
   ]
  },
  {
   "cell_type": "code",
   "execution_count": null,
   "metadata": {},
   "outputs": [],
   "source": [
    "validator.expect_column_values_to_not_be_null(\"ao_day_of_week_int\", mostly=0.40)"
   ]
  },
  {
   "cell_type": "code",
   "execution_count": null,
   "metadata": {},
   "outputs": [],
   "source": [
    "validator.save_expectation_suite()"
   ]
  },
  {
   "cell_type": "code",
   "execution_count": null,
   "metadata": {},
   "outputs": [],
   "source": [
    "validator.expect_table_row_count_to_be_between(5, 130, meta={\"notes\": {\"content\": \"A region should only have a handful of AOs\"}})"
   ]
  },
  {
   "cell_type": "code",
   "execution_count": null,
   "metadata": {},
   "outputs": [],
   "source": [
    "validator.expect_table_columns_to_match_ordered_list(validator.columns())"
   ]
  },
  {
   "cell_type": "code",
   "execution_count": null,
   "metadata": {},
   "outputs": [],
   "source": [
    "validator.expect_column_values_to_be_unique(\"ao\")"
   ]
  },
  {
   "cell_type": "code",
   "execution_count": null,
   "metadata": {},
   "outputs": [],
   "source": [
    "for column in validator.columns():\n",
    "    validator.expect_column_values_to_not_be_null(column)"
   ]
  },
  {
   "attachments": {},
   "cell_type": "markdown",
   "metadata": {},
   "source": []
  },
  {
   "cell_type": "code",
   "execution_count": null,
   "metadata": {},
   "outputs": [],
   "source": [
    "validator.save_expectation_suite(discard_failed_expectations=False)"
   ]
  },
  {
   "cell_type": "code",
   "execution_count": null,
   "metadata": {},
   "outputs": [],
   "source": [
    "validator.expect_column_values_to_be_between(\"ao_lon\", -79.5, -78)"
   ]
  },
  {
   "cell_type": "code",
   "execution_count": null,
   "metadata": {},
   "outputs": [],
   "source": [
    "validator.expect_column_values_to_be_between(\"ao_lat\", 35, 36)"
   ]
  },
  {
   "cell_type": "code",
   "execution_count": null,
   "metadata": {},
   "outputs": [],
   "source": [
    "res = context.assistants.onboarding.run(batch_request=asset.build_batch_request())"
   ]
  },
  {
   "cell_type": "code",
   "execution_count": null,
   "metadata": {},
   "outputs": [],
   "source": [
    "validator.expect_column_distinct_values_to_be_in_set(\"ao_type\", [\"1stf\", \"2ndf\", \"3rdf\"])"
   ]
  },
  {
   "cell_type": "code",
   "execution_count": null,
   "metadata": {},
   "outputs": [],
   "source": [
    "validator.expect_column_values_to_be_between(\"ao_day_of_week_int\", 1, 6)"
   ]
  },
  {
   "cell_type": "code",
   "execution_count": null,
   "metadata": {},
   "outputs": [],
   "source": [
    "checkpoint_name = \"ao_info\"  # name your checkpoint here!\n",
    "\n",
    "checkpoint_config = {\n",
    "  \"name\": checkpoint_name,\n",
    "  \"validations\": [{\n",
    "      \"expectation_suite_name\": \"ao_info\",\n",
    "      \"expectation_suite_ge_cloud_id\": context.get_expectation_suite(\"ao_info\").ge_cloud_id,\n",
    "      \"batch_request\": {\n",
    "          \"datasource_name\": \"cockroachdb\",\n",
    "          \"data_asset_name\": \"ao_info_carpex\",\n",
    "      },\n",
    "  },\n",
    "  {\n",
    "      \"expectation_suite_name\": \"ao_info\",\n",
    "      \"expectation_suite_ge_cloud_id\": context.get_expectation_suite(\"ao_info\").ge_cloud_id,\n",
    "      \"batch_request\": {\n",
    "          \"datasource_name\": \"cockroachdb\",\n",
    "          \"data_asset_name\": \"ao_info_carpex_super_region\",\n",
    "      },\n",
    "  },\n",
    "  {\n",
    "      \"expectation_suite_name\": \"ao_info\",\n",
    "      \"expectation_suite_ge_cloud_id\": context.get_expectation_suite(\"ao_info\").ge_cloud_id,\n",
    "      \"batch_request\": {\n",
    "          \"datasource_name\": \"cockroachdb\",\n",
    "          \"data_asset_name\": \"ao_info_churham\",\n",
    "      },\n",
    "  },\n",
    "    {\n",
    "      \"expectation_suite_name\": \"ao_info\",\n",
    "      \"expectation_suite_ge_cloud_id\": context.get_expectation_suite(\"ao_info\").ge_cloud_id,\n",
    "      \"batch_request\": {\n",
    "          \"datasource_name\": \"cockroachdb\",\n",
    "          \"data_asset_name\": \"ao_info_peakcity\",\n",
    "      },\n",
    "  }],\n",
    "}\n",
    "\n",
    "checkpoint = context.add_or_update_checkpoint(**checkpoint_config)\n",
    "\n",
    "print(checkpoint)\n",
    "\n",
    "# Optionally run the Checkpoint:\n",
    "# result = checkpoint.run()\n"
   ]
  },
  {
   "cell_type": "code",
   "execution_count": null,
   "metadata": {},
   "outputs": [],
   "source": [
    "asset = context.get_datasource(\"cockroachdb\").get_asset(\"backblast\")"
   ]
  },
  {
   "cell_type": "code",
   "execution_count": null,
   "metadata": {},
   "outputs": [],
   "source": [
    "res = context.assistants.onboarding.run(batch_request=asset.build_batch_request(), include_column_names=[\"date\", \"store_date\"])"
   ]
  },
  {
   "cell_type": "code",
   "execution_count": null,
   "metadata": {},
   "outputs": [],
   "source": [
    "validator.save_expectation_suite()"
   ]
  },
  {
   "cell_type": "code",
   "execution_count": null,
   "metadata": {},
   "outputs": [],
   "source": []
  }
 ],
 "metadata": {
  "kernelspec": {
   "display_name": "data-workflow-RiL0_d_O",
   "language": "python",
   "name": "python3"
  },
  "language_info": {
   "codemirror_mode": {
    "name": "ipython",
    "version": 3
   },
   "file_extension": ".py",
   "mimetype": "text/x-python",
   "name": "python",
   "nbconvert_exporter": "python",
   "pygments_lexer": "ipython3",
   "version": "3.9.16"
  },
  "orig_nbformat": 4
 },
 "nbformat": 4,
 "nbformat_minor": 2
}
