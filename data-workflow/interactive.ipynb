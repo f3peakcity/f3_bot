{
 "cells": [
  {
   "cell_type": "code",
   "execution_count": null,
   "metadata": {},
   "outputs": [],
   "source": [
    "from typing import List\n",
    "\n",
    "import logging\n",
    "import os\n",
    "\n",
    "from googleapiclient import discovery\n",
    "from googleapiclient.errors import HttpError\n",
    "import pandas as pd\n",
    "\n",
    "from main import get_raw_data, get_reference_ao_data, infer_ao_info, add_day_of_week\n",
    "\n",
    "logger = logging.getLogger()\n",
    "\n",
    "sheet_id = os.environ.get(\"SPREADSHEET_ID\", \"1c1vvx07AXdnu6NSa4is4a0oyUiu8q3cgOecFbTNWlAY\")\n",
    "spreadsheet_id = sheet_id"
   ]
  },
  {
   "cell_type": "code",
   "execution_count": null,
   "metadata": {},
   "outputs": [],
   "source": [
    "# df = get_raw_data(sheet_id=sheet_id)\n",
    "# reference_ao_df = get_reference_ao_data(sheet_id=sheet_id)\n",
    "# df = infer_ao_info(df, reference_ao_df)\n",
    "# df = add_day_of_week(df)\n",
    "# df = update_pax_names(df)\n",
    "# df = get_last_message_for_ao_q_day(df)\n",
    "# df = filter_by_ao_type(df, ao_type=\"1stf\")\n",
    "# pax_level_values = get_df_as_list(df, do_ao_rollup=False)\n",
    "# ao_level_values = get_df_as_list(df, do_ao_rollup=True)\n",
    "# save_processed_values(sheet_id=sheet_id, sheet_suffix=\"PAX\", values=pax_level_values)\n",
    "# save_processed_values(sheet_id=sheet_id, sheet_suffix=\"AO\", values=ao_level_values)"
   ]
  }
 ],
 "metadata": {
  "kernelspec": {
   "display_name": "f3_bot-8rVvG8VB",
   "language": "python",
   "name": "python3"
  },
  "language_info": {
   "codemirror_mode": {
    "name": "ipython",
    "version": 3
   },
   "file_extension": ".py",
   "mimetype": "text/x-python",
   "name": "python",
   "nbconvert_exporter": "python",
   "pygments_lexer": "ipython3",
   "version": "3.9.16"
  },
  "orig_nbformat": 4
 },
 "nbformat": 4,
 "nbformat_minor": 2
}
