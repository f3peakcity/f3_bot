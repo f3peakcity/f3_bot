{
 "cells": [
  {
   "cell_type": "code",
   "execution_count": null,
   "metadata": {},
   "outputs": [],
   "source": [
    "import pandas as pd\n",
    "import sqlite3"
   ]
  },
  {
   "cell_type": "code",
   "execution_count": null,
   "metadata": {},
   "outputs": [],
   "source": [
    "sheet_id = \"1c1vvx07AXdnu6NSa4is4a0oyUiu8q3cgOecFbTNWlAY\"\n",
    "sheet_name = \"__PROCESSED_AO\"\n",
    "url = f\"https://docs.google.com/spreadsheets/d/{sheet_id}/gviz/tq?tqx=out:csv&sheet={sheet_name}\"\n",
    "column_names = [\"Date\", \"Q\", \"AO\", \"PAX (count)\", \"Day of Week\", \"Day of Week - Int\", \"FNGs (count)\", \"PAX Not in Slack\", \"Visitng PAX (count)\", \"ao_lat\", \"ao_lon\", \"Submitter\", \"Submitter ID\", \"Backblast ID\", \"Backblast Timestamp\"]\n",
    "column_names = [x.replace(\" \", \"_\").replace(\"(\", \"\").replace(\")\", \"\").lower() for x in column_names]\n",
    "\n",
    "df = pd.read_csv(url, names=column_names, parse_dates=[\"date\", \"backblast_timestamp\"], header=1)"
   ]
  },
  {
   "cell_type": "code",
   "execution_count": null,
   "metadata": {},
   "outputs": [],
   "source": [
    "con = sqlite3.connect(\"sqlite://\")"
   ]
  },
  {
   "cell_type": "code",
   "execution_count": null,
   "metadata": {},
   "outputs": [],
   "source": [
    "df.to_sql(\"ao\", con, if_exists=\"replace\", index=False)"
   ]
  },
  {
   "cell_type": "code",
   "execution_count": null,
   "metadata": {},
   "outputs": [],
   "source": [
    "con.execute(\"select day_of_week, ao, sum(pax_count) from ao where date > '2023-01-01' group by day_of_week, ao\").fetchall()"
   ]
  },
  {
   "cell_type": "code",
   "execution_count": null,
   "metadata": {},
   "outputs": [],
   "source": [
    "con.execute(\"select count(distinct q) from ao where date > '2023-01-01'\").fetchall()"
   ]
  },
  {
   "cell_type": "code",
   "execution_count": null,
   "metadata": {},
   "outputs": [],
   "source": []
  }
 ],
 "metadata": {
  "kernelspec": {
   "display_name": "f3_bot-8rVvG8VB",
   "language": "python",
   "name": "python3"
  },
  "language_info": {
   "codemirror_mode": {
    "name": "ipython",
    "version": 3
   },
   "file_extension": ".py",
   "mimetype": "text/x-python",
   "name": "python",
   "nbconvert_exporter": "python",
   "pygments_lexer": "ipython3",
   "version": "3.9.16"
  },
  "orig_nbformat": 4
 },
 "nbformat": 4,
 "nbformat_minor": 2
}
